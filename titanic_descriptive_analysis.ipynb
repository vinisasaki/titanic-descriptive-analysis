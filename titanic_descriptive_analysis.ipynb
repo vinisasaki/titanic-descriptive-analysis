{
  "nbformat": 4,
  "nbformat_minor": 0,
  "metadata": {
    "colab": {
      "provenance": [],
      "authorship_tag": "ABX9TyPeEnH6QxQaGecbEwcpGSLL",
      "include_colab_link": true
    },
    "kernelspec": {
      "name": "python3",
      "display_name": "Python 3"
    },
    "language_info": {
      "name": "python"
    }
  },
  "cells": [
    {
      "cell_type": "markdown",
      "metadata": {
        "id": "view-in-github",
        "colab_type": "text"
      },
      "source": [
        "<a href=\"https://colab.research.google.com/github/vinisasaki/titanic-descriptive-analysis/blob/main/titanic_descriptive_analysis.ipynb\" target=\"_parent\"><img src=\"https://colab.research.google.com/assets/colab-badge.svg\" alt=\"Open In Colab\"/></a>"
      ]
    },
    {
      "cell_type": "markdown",
      "source": [
        "# Titanic Descriptive Statistics"
      ],
      "metadata": {
        "id": "L8uj8LOw3XMT"
      }
    },
    {
      "cell_type": "markdown",
      "source": [
        "Exploratory analysis of the Titanic dataset from **Kaggle** using descriptive statistics (central tendency, dispersion, skewness, and kurtosis) along with visualizations (histograms, boxplots) to explore age, fares, social class, and their interrelationships."
      ],
      "metadata": {
        "id": "quyxst3r3bxE"
      }
    },
    {
      "cell_type": "markdown",
      "source": [
        "## Initial Analysis"
      ],
      "metadata": {
        "id": "2bUoQ5dkqQRu"
      }
    },
    {
      "cell_type": "markdown",
      "source": [
        "Importing libraries and loading the dataset"
      ],
      "metadata": {
        "id": "mbigOk0HB0SI"
      }
    },
    {
      "cell_type": "code",
      "execution_count": 53,
      "metadata": {
        "id": "VhaJJgvGY1yT"
      },
      "outputs": [],
      "source": [
        "import pandas as pd\n",
        "import seaborn as sns\n",
        "import matplotlib.pyplot as plt"
      ]
    },
    {
      "cell_type": "code",
      "source": [
        "df = pd.read_csv(\"train.csv\")"
      ],
      "metadata": {
        "id": "GL-r3R3Xci7-"
      },
      "execution_count": 54,
      "outputs": []
    },
    {
      "cell_type": "markdown",
      "source": [
        "Displaying the first 5 rows of the dataset to get a quick overview:"
      ],
      "metadata": {
        "id": "LL46Px6MyzLA"
      }
    },
    {
      "cell_type": "code",
      "source": [
        "df.head()"
      ],
      "metadata": {
        "colab": {
          "base_uri": "https://localhost:8080/",
          "height": 206
        },
        "id": "YxkOyG6Dco5V",
        "outputId": "5b8a142a-9bec-4af8-8f0e-361e35c61c9a"
      },
      "execution_count": 55,
      "outputs": [
        {
          "output_type": "execute_result",
          "data": {
            "text/plain": [
              "   PassengerId  Survived  Pclass  \\\n",
              "0            1         0       3   \n",
              "1            2         1       1   \n",
              "2            3         1       3   \n",
              "3            4         1       1   \n",
              "4            5         0       3   \n",
              "\n",
              "                                                Name     Sex   Age  SibSp  \\\n",
              "0                            Braund, Mr. Owen Harris    male  22.0      1   \n",
              "1  Cumings, Mrs. John Bradley (Florence Briggs Th...  female  38.0      1   \n",
              "2                             Heikkinen, Miss. Laina  female  26.0      0   \n",
              "3       Futrelle, Mrs. Jacques Heath (Lily May Peel)  female  35.0      1   \n",
              "4                           Allen, Mr. William Henry    male  35.0      0   \n",
              "\n",
              "   Parch            Ticket     Fare Cabin Embarked  \n",
              "0      0         A/5 21171   7.2500   NaN        S  \n",
              "1      0          PC 17599  71.2833   C85        C  \n",
              "2      0  STON/O2. 3101282   7.9250   NaN        S  \n",
              "3      0            113803  53.1000  C123        S  \n",
              "4      0            373450   8.0500   NaN        S  "
            ],
            "text/html": [
              "\n",
              "  <div id=\"df-7feee957-dbd5-490f-8853-707084ffd8be\" class=\"colab-df-container\">\n",
              "    <div>\n",
              "<style scoped>\n",
              "    .dataframe tbody tr th:only-of-type {\n",
              "        vertical-align: middle;\n",
              "    }\n",
              "\n",
              "    .dataframe tbody tr th {\n",
              "        vertical-align: top;\n",
              "    }\n",
              "\n",
              "    .dataframe thead th {\n",
              "        text-align: right;\n",
              "    }\n",
              "</style>\n",
              "<table border=\"1\" class=\"dataframe\">\n",
              "  <thead>\n",
              "    <tr style=\"text-align: right;\">\n",
              "      <th></th>\n",
              "      <th>PassengerId</th>\n",
              "      <th>Survived</th>\n",
              "      <th>Pclass</th>\n",
              "      <th>Name</th>\n",
              "      <th>Sex</th>\n",
              "      <th>Age</th>\n",
              "      <th>SibSp</th>\n",
              "      <th>Parch</th>\n",
              "      <th>Ticket</th>\n",
              "      <th>Fare</th>\n",
              "      <th>Cabin</th>\n",
              "      <th>Embarked</th>\n",
              "    </tr>\n",
              "  </thead>\n",
              "  <tbody>\n",
              "    <tr>\n",
              "      <th>0</th>\n",
              "      <td>1</td>\n",
              "      <td>0</td>\n",
              "      <td>3</td>\n",
              "      <td>Braund, Mr. Owen Harris</td>\n",
              "      <td>male</td>\n",
              "      <td>22.0</td>\n",
              "      <td>1</td>\n",
              "      <td>0</td>\n",
              "      <td>A/5 21171</td>\n",
              "      <td>7.2500</td>\n",
              "      <td>NaN</td>\n",
              "      <td>S</td>\n",
              "    </tr>\n",
              "    <tr>\n",
              "      <th>1</th>\n",
              "      <td>2</td>\n",
              "      <td>1</td>\n",
              "      <td>1</td>\n",
              "      <td>Cumings, Mrs. John Bradley (Florence Briggs Th...</td>\n",
              "      <td>female</td>\n",
              "      <td>38.0</td>\n",
              "      <td>1</td>\n",
              "      <td>0</td>\n",
              "      <td>PC 17599</td>\n",
              "      <td>71.2833</td>\n",
              "      <td>C85</td>\n",
              "      <td>C</td>\n",
              "    </tr>\n",
              "    <tr>\n",
              "      <th>2</th>\n",
              "      <td>3</td>\n",
              "      <td>1</td>\n",
              "      <td>3</td>\n",
              "      <td>Heikkinen, Miss. Laina</td>\n",
              "      <td>female</td>\n",
              "      <td>26.0</td>\n",
              "      <td>0</td>\n",
              "      <td>0</td>\n",
              "      <td>STON/O2. 3101282</td>\n",
              "      <td>7.9250</td>\n",
              "      <td>NaN</td>\n",
              "      <td>S</td>\n",
              "    </tr>\n",
              "    <tr>\n",
              "      <th>3</th>\n",
              "      <td>4</td>\n",
              "      <td>1</td>\n",
              "      <td>1</td>\n",
              "      <td>Futrelle, Mrs. Jacques Heath (Lily May Peel)</td>\n",
              "      <td>female</td>\n",
              "      <td>35.0</td>\n",
              "      <td>1</td>\n",
              "      <td>0</td>\n",
              "      <td>113803</td>\n",
              "      <td>53.1000</td>\n",
              "      <td>C123</td>\n",
              "      <td>S</td>\n",
              "    </tr>\n",
              "    <tr>\n",
              "      <th>4</th>\n",
              "      <td>5</td>\n",
              "      <td>0</td>\n",
              "      <td>3</td>\n",
              "      <td>Allen, Mr. William Henry</td>\n",
              "      <td>male</td>\n",
              "      <td>35.0</td>\n",
              "      <td>0</td>\n",
              "      <td>0</td>\n",
              "      <td>373450</td>\n",
              "      <td>8.0500</td>\n",
              "      <td>NaN</td>\n",
              "      <td>S</td>\n",
              "    </tr>\n",
              "  </tbody>\n",
              "</table>\n",
              "</div>\n",
              "    <div class=\"colab-df-buttons\">\n",
              "\n",
              "  <div class=\"colab-df-container\">\n",
              "    <button class=\"colab-df-convert\" onclick=\"convertToInteractive('df-7feee957-dbd5-490f-8853-707084ffd8be')\"\n",
              "            title=\"Convert this dataframe to an interactive table.\"\n",
              "            style=\"display:none;\">\n",
              "\n",
              "  <svg xmlns=\"http://www.w3.org/2000/svg\" height=\"24px\" viewBox=\"0 -960 960 960\">\n",
              "    <path d=\"M120-120v-720h720v720H120Zm60-500h600v-160H180v160Zm220 220h160v-160H400v160Zm0 220h160v-160H400v160ZM180-400h160v-160H180v160Zm440 0h160v-160H620v160ZM180-180h160v-160H180v160Zm440 0h160v-160H620v160Z\"/>\n",
              "  </svg>\n",
              "    </button>\n",
              "\n",
              "  <style>\n",
              "    .colab-df-container {\n",
              "      display:flex;\n",
              "      gap: 12px;\n",
              "    }\n",
              "\n",
              "    .colab-df-convert {\n",
              "      background-color: #E8F0FE;\n",
              "      border: none;\n",
              "      border-radius: 50%;\n",
              "      cursor: pointer;\n",
              "      display: none;\n",
              "      fill: #1967D2;\n",
              "      height: 32px;\n",
              "      padding: 0 0 0 0;\n",
              "      width: 32px;\n",
              "    }\n",
              "\n",
              "    .colab-df-convert:hover {\n",
              "      background-color: #E2EBFA;\n",
              "      box-shadow: 0px 1px 2px rgba(60, 64, 67, 0.3), 0px 1px 3px 1px rgba(60, 64, 67, 0.15);\n",
              "      fill: #174EA6;\n",
              "    }\n",
              "\n",
              "    .colab-df-buttons div {\n",
              "      margin-bottom: 4px;\n",
              "    }\n",
              "\n",
              "    [theme=dark] .colab-df-convert {\n",
              "      background-color: #3B4455;\n",
              "      fill: #D2E3FC;\n",
              "    }\n",
              "\n",
              "    [theme=dark] .colab-df-convert:hover {\n",
              "      background-color: #434B5C;\n",
              "      box-shadow: 0px 1px 3px 1px rgba(0, 0, 0, 0.15);\n",
              "      filter: drop-shadow(0px 1px 2px rgba(0, 0, 0, 0.3));\n",
              "      fill: #FFFFFF;\n",
              "    }\n",
              "  </style>\n",
              "\n",
              "    <script>\n",
              "      const buttonEl =\n",
              "        document.querySelector('#df-7feee957-dbd5-490f-8853-707084ffd8be button.colab-df-convert');\n",
              "      buttonEl.style.display =\n",
              "        google.colab.kernel.accessAllowed ? 'block' : 'none';\n",
              "\n",
              "      async function convertToInteractive(key) {\n",
              "        const element = document.querySelector('#df-7feee957-dbd5-490f-8853-707084ffd8be');\n",
              "        const dataTable =\n",
              "          await google.colab.kernel.invokeFunction('convertToInteractive',\n",
              "                                                    [key], {});\n",
              "        if (!dataTable) return;\n",
              "\n",
              "        const docLinkHtml = 'Like what you see? Visit the ' +\n",
              "          '<a target=\"_blank\" href=https://colab.research.google.com/notebooks/data_table.ipynb>data table notebook</a>'\n",
              "          + ' to learn more about interactive tables.';\n",
              "        element.innerHTML = '';\n",
              "        dataTable['output_type'] = 'display_data';\n",
              "        await google.colab.output.renderOutput(dataTable, element);\n",
              "        const docLink = document.createElement('div');\n",
              "        docLink.innerHTML = docLinkHtml;\n",
              "        element.appendChild(docLink);\n",
              "      }\n",
              "    </script>\n",
              "  </div>\n",
              "\n",
              "\n",
              "    <div id=\"df-900d1c74-3b5c-4795-b260-551d6260cf1c\">\n",
              "      <button class=\"colab-df-quickchart\" onclick=\"quickchart('df-900d1c74-3b5c-4795-b260-551d6260cf1c')\"\n",
              "                title=\"Suggest charts\"\n",
              "                style=\"display:none;\">\n",
              "\n",
              "<svg xmlns=\"http://www.w3.org/2000/svg\" height=\"24px\"viewBox=\"0 0 24 24\"\n",
              "     width=\"24px\">\n",
              "    <g>\n",
              "        <path d=\"M19 3H5c-1.1 0-2 .9-2 2v14c0 1.1.9 2 2 2h14c1.1 0 2-.9 2-2V5c0-1.1-.9-2-2-2zM9 17H7v-7h2v7zm4 0h-2V7h2v10zm4 0h-2v-4h2v4z\"/>\n",
              "    </g>\n",
              "</svg>\n",
              "      </button>\n",
              "\n",
              "<style>\n",
              "  .colab-df-quickchart {\n",
              "      --bg-color: #E8F0FE;\n",
              "      --fill-color: #1967D2;\n",
              "      --hover-bg-color: #E2EBFA;\n",
              "      --hover-fill-color: #174EA6;\n",
              "      --disabled-fill-color: #AAA;\n",
              "      --disabled-bg-color: #DDD;\n",
              "  }\n",
              "\n",
              "  [theme=dark] .colab-df-quickchart {\n",
              "      --bg-color: #3B4455;\n",
              "      --fill-color: #D2E3FC;\n",
              "      --hover-bg-color: #434B5C;\n",
              "      --hover-fill-color: #FFFFFF;\n",
              "      --disabled-bg-color: #3B4455;\n",
              "      --disabled-fill-color: #666;\n",
              "  }\n",
              "\n",
              "  .colab-df-quickchart {\n",
              "    background-color: var(--bg-color);\n",
              "    border: none;\n",
              "    border-radius: 50%;\n",
              "    cursor: pointer;\n",
              "    display: none;\n",
              "    fill: var(--fill-color);\n",
              "    height: 32px;\n",
              "    padding: 0;\n",
              "    width: 32px;\n",
              "  }\n",
              "\n",
              "  .colab-df-quickchart:hover {\n",
              "    background-color: var(--hover-bg-color);\n",
              "    box-shadow: 0 1px 2px rgba(60, 64, 67, 0.3), 0 1px 3px 1px rgba(60, 64, 67, 0.15);\n",
              "    fill: var(--button-hover-fill-color);\n",
              "  }\n",
              "\n",
              "  .colab-df-quickchart-complete:disabled,\n",
              "  .colab-df-quickchart-complete:disabled:hover {\n",
              "    background-color: var(--disabled-bg-color);\n",
              "    fill: var(--disabled-fill-color);\n",
              "    box-shadow: none;\n",
              "  }\n",
              "\n",
              "  .colab-df-spinner {\n",
              "    border: 2px solid var(--fill-color);\n",
              "    border-color: transparent;\n",
              "    border-bottom-color: var(--fill-color);\n",
              "    animation:\n",
              "      spin 1s steps(1) infinite;\n",
              "  }\n",
              "\n",
              "  @keyframes spin {\n",
              "    0% {\n",
              "      border-color: transparent;\n",
              "      border-bottom-color: var(--fill-color);\n",
              "      border-left-color: var(--fill-color);\n",
              "    }\n",
              "    20% {\n",
              "      border-color: transparent;\n",
              "      border-left-color: var(--fill-color);\n",
              "      border-top-color: var(--fill-color);\n",
              "    }\n",
              "    30% {\n",
              "      border-color: transparent;\n",
              "      border-left-color: var(--fill-color);\n",
              "      border-top-color: var(--fill-color);\n",
              "      border-right-color: var(--fill-color);\n",
              "    }\n",
              "    40% {\n",
              "      border-color: transparent;\n",
              "      border-right-color: var(--fill-color);\n",
              "      border-top-color: var(--fill-color);\n",
              "    }\n",
              "    60% {\n",
              "      border-color: transparent;\n",
              "      border-right-color: var(--fill-color);\n",
              "    }\n",
              "    80% {\n",
              "      border-color: transparent;\n",
              "      border-right-color: var(--fill-color);\n",
              "      border-bottom-color: var(--fill-color);\n",
              "    }\n",
              "    90% {\n",
              "      border-color: transparent;\n",
              "      border-bottom-color: var(--fill-color);\n",
              "    }\n",
              "  }\n",
              "</style>\n",
              "\n",
              "      <script>\n",
              "        async function quickchart(key) {\n",
              "          const quickchartButtonEl =\n",
              "            document.querySelector('#' + key + ' button');\n",
              "          quickchartButtonEl.disabled = true;  // To prevent multiple clicks.\n",
              "          quickchartButtonEl.classList.add('colab-df-spinner');\n",
              "          try {\n",
              "            const charts = await google.colab.kernel.invokeFunction(\n",
              "                'suggestCharts', [key], {});\n",
              "          } catch (error) {\n",
              "            console.error('Error during call to suggestCharts:', error);\n",
              "          }\n",
              "          quickchartButtonEl.classList.remove('colab-df-spinner');\n",
              "          quickchartButtonEl.classList.add('colab-df-quickchart-complete');\n",
              "        }\n",
              "        (() => {\n",
              "          let quickchartButtonEl =\n",
              "            document.querySelector('#df-900d1c74-3b5c-4795-b260-551d6260cf1c button');\n",
              "          quickchartButtonEl.style.display =\n",
              "            google.colab.kernel.accessAllowed ? 'block' : 'none';\n",
              "        })();\n",
              "      </script>\n",
              "    </div>\n",
              "\n",
              "    </div>\n",
              "  </div>\n"
            ],
            "application/vnd.google.colaboratory.intrinsic+json": {
              "type": "dataframe",
              "variable_name": "df",
              "summary": "{\n  \"name\": \"df\",\n  \"rows\": 891,\n  \"fields\": [\n    {\n      \"column\": \"PassengerId\",\n      \"properties\": {\n        \"dtype\": \"number\",\n        \"std\": 257,\n        \"min\": 1,\n        \"max\": 891,\n        \"num_unique_values\": 891,\n        \"samples\": [\n          710,\n          440,\n          841\n        ],\n        \"semantic_type\": \"\",\n        \"description\": \"\"\n      }\n    },\n    {\n      \"column\": \"Survived\",\n      \"properties\": {\n        \"dtype\": \"number\",\n        \"std\": 0,\n        \"min\": 0,\n        \"max\": 1,\n        \"num_unique_values\": 2,\n        \"samples\": [\n          1,\n          0\n        ],\n        \"semantic_type\": \"\",\n        \"description\": \"\"\n      }\n    },\n    {\n      \"column\": \"Pclass\",\n      \"properties\": {\n        \"dtype\": \"number\",\n        \"std\": 0,\n        \"min\": 1,\n        \"max\": 3,\n        \"num_unique_values\": 3,\n        \"samples\": [\n          3,\n          1\n        ],\n        \"semantic_type\": \"\",\n        \"description\": \"\"\n      }\n    },\n    {\n      \"column\": \"Name\",\n      \"properties\": {\n        \"dtype\": \"string\",\n        \"num_unique_values\": 891,\n        \"samples\": [\n          \"Moubarek, Master. Halim Gonios (\\\"William George\\\")\",\n          \"Kvillner, Mr. Johan Henrik Johannesson\"\n        ],\n        \"semantic_type\": \"\",\n        \"description\": \"\"\n      }\n    },\n    {\n      \"column\": \"Sex\",\n      \"properties\": {\n        \"dtype\": \"category\",\n        \"num_unique_values\": 2,\n        \"samples\": [\n          \"female\",\n          \"male\"\n        ],\n        \"semantic_type\": \"\",\n        \"description\": \"\"\n      }\n    },\n    {\n      \"column\": \"Age\",\n      \"properties\": {\n        \"dtype\": \"number\",\n        \"std\": 14.526497332334044,\n        \"min\": 0.42,\n        \"max\": 80.0,\n        \"num_unique_values\": 88,\n        \"samples\": [\n          0.75,\n          22.0\n        ],\n        \"semantic_type\": \"\",\n        \"description\": \"\"\n      }\n    },\n    {\n      \"column\": \"SibSp\",\n      \"properties\": {\n        \"dtype\": \"number\",\n        \"std\": 1,\n        \"min\": 0,\n        \"max\": 8,\n        \"num_unique_values\": 7,\n        \"samples\": [\n          1,\n          0\n        ],\n        \"semantic_type\": \"\",\n        \"description\": \"\"\n      }\n    },\n    {\n      \"column\": \"Parch\",\n      \"properties\": {\n        \"dtype\": \"number\",\n        \"std\": 0,\n        \"min\": 0,\n        \"max\": 6,\n        \"num_unique_values\": 7,\n        \"samples\": [\n          0,\n          1\n        ],\n        \"semantic_type\": \"\",\n        \"description\": \"\"\n      }\n    },\n    {\n      \"column\": \"Ticket\",\n      \"properties\": {\n        \"dtype\": \"string\",\n        \"num_unique_values\": 681,\n        \"samples\": [\n          \"11774\",\n          \"248740\"\n        ],\n        \"semantic_type\": \"\",\n        \"description\": \"\"\n      }\n    },\n    {\n      \"column\": \"Fare\",\n      \"properties\": {\n        \"dtype\": \"number\",\n        \"std\": 49.693428597180905,\n        \"min\": 0.0,\n        \"max\": 512.3292,\n        \"num_unique_values\": 248,\n        \"samples\": [\n          11.2417,\n          51.8625\n        ],\n        \"semantic_type\": \"\",\n        \"description\": \"\"\n      }\n    },\n    {\n      \"column\": \"Cabin\",\n      \"properties\": {\n        \"dtype\": \"category\",\n        \"num_unique_values\": 147,\n        \"samples\": [\n          \"D45\",\n          \"B49\"\n        ],\n        \"semantic_type\": \"\",\n        \"description\": \"\"\n      }\n    },\n    {\n      \"column\": \"Embarked\",\n      \"properties\": {\n        \"dtype\": \"category\",\n        \"num_unique_values\": 3,\n        \"samples\": [\n          \"S\",\n          \"C\"\n        ],\n        \"semantic_type\": \"\",\n        \"description\": \"\"\n      }\n    }\n  ]\n}"
            }
          },
          "metadata": {},
          "execution_count": 55
        }
      ]
    },
    {
      "cell_type": "markdown",
      "source": [
        "Inspecting the columns and the type of variable in each one:\n"
      ],
      "metadata": {
        "id": "IBjdbk-5z6Dr"
      }
    },
    {
      "cell_type": "code",
      "source": [
        "df.info()"
      ],
      "metadata": {
        "colab": {
          "base_uri": "https://localhost:8080/"
        },
        "id": "Hy4_4hmGcvf1",
        "outputId": "ea6f1bac-66a7-4dcd-fddb-7f7b5acc6ff0"
      },
      "execution_count": 56,
      "outputs": [
        {
          "output_type": "stream",
          "name": "stdout",
          "text": [
            "<class 'pandas.core.frame.DataFrame'>\n",
            "RangeIndex: 891 entries, 0 to 890\n",
            "Data columns (total 12 columns):\n",
            " #   Column       Non-Null Count  Dtype  \n",
            "---  ------       --------------  -----  \n",
            " 0   PassengerId  891 non-null    int64  \n",
            " 1   Survived     891 non-null    int64  \n",
            " 2   Pclass       891 non-null    int64  \n",
            " 3   Name         891 non-null    object \n",
            " 4   Sex          891 non-null    object \n",
            " 5   Age          714 non-null    float64\n",
            " 6   SibSp        891 non-null    int64  \n",
            " 7   Parch        891 non-null    int64  \n",
            " 8   Ticket       891 non-null    object \n",
            " 9   Fare         891 non-null    float64\n",
            " 10  Cabin        204 non-null    object \n",
            " 11  Embarked     889 non-null    object \n",
            "dtypes: float64(2), int64(5), object(5)\n",
            "memory usage: 83.7+ KB\n"
          ]
        }
      ]
    },
    {
      "cell_type": "markdown",
      "source": [
        "Below is a description of what each column in the dataset represents:\n",
        "\n",
        "* **PassengerId**: Unique identifier for each passenger\n",
        "* **Survived**: Survival indicator, 0 = did not survive, 1 = survived\n",
        "* **Pclass**: Passenger's cabin class (socioeconomic status)\n",
        "* **Name**: Full name of the passenger, including title (Mr, Mrs, Miss, etc.)\n",
        "* **Sex**: Passenger’s sex\n",
        "* **Age**: Age in years\n",
        "* **SibSp**: Number of siblings and spouses aboard\n",
        "* **Parch**: Number of parents and children aboard\n",
        "* **Ticket**: Ticket number\n",
        "* **Fare**: Fare paid by the passenger (in historical British pounds)\n",
        "* **Cabin**: Cabin number or code assigned\n",
        "* **Embarked**: Port of embarkation — C = Cherbourg, Q = Queenstown, S = Southampton"
      ],
      "metadata": {
        "id": "nLJzMbMI1GHI"
      }
    },
    {
      "cell_type": "markdown",
      "source": [
        "Checking for missing (null) values in the dataset:"
      ],
      "metadata": {
        "id": "BJ52MjzHzC9D"
      }
    },
    {
      "cell_type": "code",
      "source": [
        "df.isnull().sum()"
      ],
      "metadata": {
        "colab": {
          "base_uri": "https://localhost:8080/",
          "height": 460
        },
        "id": "xK5dE5aCofW2",
        "outputId": "d5f53267-9d9b-4c7f-e544-b1453cdf1798"
      },
      "execution_count": 57,
      "outputs": [
        {
          "output_type": "execute_result",
          "data": {
            "text/plain": [
              "PassengerId      0\n",
              "Survived         0\n",
              "Pclass           0\n",
              "Name             0\n",
              "Sex              0\n",
              "Age            177\n",
              "SibSp            0\n",
              "Parch            0\n",
              "Ticket           0\n",
              "Fare             0\n",
              "Cabin          687\n",
              "Embarked         2\n",
              "dtype: int64"
            ],
            "text/html": [
              "<div>\n",
              "<style scoped>\n",
              "    .dataframe tbody tr th:only-of-type {\n",
              "        vertical-align: middle;\n",
              "    }\n",
              "\n",
              "    .dataframe tbody tr th {\n",
              "        vertical-align: top;\n",
              "    }\n",
              "\n",
              "    .dataframe thead th {\n",
              "        text-align: right;\n",
              "    }\n",
              "</style>\n",
              "<table border=\"1\" class=\"dataframe\">\n",
              "  <thead>\n",
              "    <tr style=\"text-align: right;\">\n",
              "      <th></th>\n",
              "      <th>0</th>\n",
              "    </tr>\n",
              "  </thead>\n",
              "  <tbody>\n",
              "    <tr>\n",
              "      <th>PassengerId</th>\n",
              "      <td>0</td>\n",
              "    </tr>\n",
              "    <tr>\n",
              "      <th>Survived</th>\n",
              "      <td>0</td>\n",
              "    </tr>\n",
              "    <tr>\n",
              "      <th>Pclass</th>\n",
              "      <td>0</td>\n",
              "    </tr>\n",
              "    <tr>\n",
              "      <th>Name</th>\n",
              "      <td>0</td>\n",
              "    </tr>\n",
              "    <tr>\n",
              "      <th>Sex</th>\n",
              "      <td>0</td>\n",
              "    </tr>\n",
              "    <tr>\n",
              "      <th>Age</th>\n",
              "      <td>177</td>\n",
              "    </tr>\n",
              "    <tr>\n",
              "      <th>SibSp</th>\n",
              "      <td>0</td>\n",
              "    </tr>\n",
              "    <tr>\n",
              "      <th>Parch</th>\n",
              "      <td>0</td>\n",
              "    </tr>\n",
              "    <tr>\n",
              "      <th>Ticket</th>\n",
              "      <td>0</td>\n",
              "    </tr>\n",
              "    <tr>\n",
              "      <th>Fare</th>\n",
              "      <td>0</td>\n",
              "    </tr>\n",
              "    <tr>\n",
              "      <th>Cabin</th>\n",
              "      <td>687</td>\n",
              "    </tr>\n",
              "    <tr>\n",
              "      <th>Embarked</th>\n",
              "      <td>2</td>\n",
              "    </tr>\n",
              "  </tbody>\n",
              "</table>\n",
              "</div><br><label><b>dtype:</b> int64</label>"
            ]
          },
          "metadata": {},
          "execution_count": 57
        }
      ]
    },
    {
      "cell_type": "markdown",
      "source": [
        "It is noticeable that the columns \"Age\", \"Cabin\", and \"Embarked\" contain missing values"
      ],
      "metadata": {
        "id": "JsdlPrdzzGWk"
      }
    },
    {
      "cell_type": "markdown",
      "source": [
        "## Measures of Central Tendency"
      ],
      "metadata": {
        "id": "9cumzSf8c2dm"
      }
    },
    {
      "cell_type": "markdown",
      "source": [
        "Calculating measures such as mean, median, and mode for columns with continuous numerical variables (in this dataset, the `Age` column contains values of type `float`)"
      ],
      "metadata": {
        "id": "i8JReil4oiVd"
      }
    },
    {
      "cell_type": "code",
      "source": [
        "mean_age = df['Age'].mean()\n",
        "median_age = df['Age'].median()\n",
        "\n",
        "mean_fare = df['Fare'].mean()\n",
        "median_fare = df['Fare'].median()\n",
        "\n",
        "print(\"---- Age ----\")\n",
        "print(f\"Mean: {mean_age:.2f} years\\nMedian: {median_age:.2f} years\")\n",
        "print(\"---- Fare ----\")\n",
        "print(f\"Mean: £{mean_fare:.2f}\\nMedian: £{median_fare:.2f}\")"
      ],
      "metadata": {
        "colab": {
          "base_uri": "https://localhost:8080/"
        },
        "id": "lo8Pq1b3c7yu",
        "outputId": "b968f5ea-28c5-46fc-bf39-b8dc0e28d479"
      },
      "execution_count": 58,
      "outputs": [
        {
          "output_type": "stream",
          "name": "stdout",
          "text": [
            "---- Age ----\n",
            "Mean: 29.70 years\n",
            "Median: 28.00 years\n",
            "---- Fare ----\n",
            "Mean: £32.20\n",
            "Median: £14.45\n"
          ]
        }
      ]
    },
    {
      "cell_type": "markdown",
      "source": [
        "The mean fare is significantly higher than the median, which indicates the presence of an outlier that is \"pulling\" the mean upwards. To analyze this, a boxplot can be used. It can also be inferred that, since the median is lower than the mean, there are only a few luxury tickets that are driving the average up\n"
      ],
      "metadata": {
        "id": "4T44nexlzydJ"
      }
    },
    {
      "cell_type": "code",
      "source": [
        "fig, axes = plt.subplots(nrows=1, ncols=2, figsize=(12, 5))\n",
        "\n",
        "sns.set_theme(style=\"whitegrid\")\n",
        "\n",
        "# Age Boxplot\n",
        "sns.boxplot(y=df['Age'], ax=axes[0])\n",
        "axes[0].set_title(\"Age Boxplot\")\n",
        "axes[0].set_ylabel(\"Age\")\n",
        "\n",
        "# Fare Boxplot\n",
        "sns.boxplot(y=df['Fare'], ax=axes[1])\n",
        "axes[1].set_title(\"Fare Boxplot\")\n",
        "axes[1].set_ylabel(\"Fare\")\n",
        "\n",
        "plt.tight_layout()\n",
        "plt.show()"
      ],
      "metadata": {
        "colab": {
          "base_uri": "https://localhost:8080/",
          "height": 501
        },
        "id": "CXw00VQdwpup",
        "outputId": "c9fd3e97-9234-4bbe-e712-2cf2ea87778d"
      },
      "execution_count": 59,
      "outputs": [
        {
          "output_type": "display_data",
          "data": {
            "text/plain": [
              "<Figure size 1200x500 with 2 Axes>"
            ],
            "image/png": "[encoded data removed]"
          },
          "metadata": {}
        }
      ]
    },
    {
      "cell_type": "markdown",
      "source": [
        "The plots above confirm the previous analysis. In the Fare boxplot, an outlier around 500 is clearly visible, which raises the mean. In the Age boxplot, although there are also outliers, they are not much higher than the upper limit of the boxplot, so they don't significantly increase the mean value"
      ],
      "metadata": {
        "id": "9qAly0BX0lXG"
      }
    },
    {
      "cell_type": "markdown",
      "source": [
        "Additionally, in the case of Age, the mean is very close to the median, suggesting an almost symmetric distribution. However, in the boxplot, the upper part is slightly more extended than the lower part, which is reflected in a histogram with positive skewness, showing a tail to the right\n"
      ],
      "metadata": {
        "id": "cz79Z5v0C91b"
      }
    },
    {
      "cell_type": "code",
      "source": [
        "df['Age'].describe()"
      ],
      "metadata": {
        "colab": {
          "base_uri": "https://localhost:8080/",
          "height": 335
        },
        "id": "GkwibPqlQ5uw",
        "outputId": "e7a909cc-ae1a-4dca-ad7e-74ed837572eb"
      },
      "execution_count": 60,
      "outputs": [
        {
          "output_type": "execute_result",
          "data": {
            "text/plain": [
              "count    714.000000\n",
              "mean      29.699118\n",
              "std       14.526497\n",
              "min        0.420000\n",
              "25%       20.125000\n",
              "50%       28.000000\n",
              "75%       38.000000\n",
              "max       80.000000\n",
              "Name: Age, dtype: float64"
            ],
            "text/html": [
              "<div>\n",
              "<style scoped>\n",
              "    .dataframe tbody tr th:only-of-type {\n",
              "        vertical-align: middle;\n",
              "    }\n",
              "\n",
              "    .dataframe tbody tr th {\n",
              "        vertical-align: top;\n",
              "    }\n",
              "\n",
              "    .dataframe thead th {\n",
              "        text-align: right;\n",
              "    }\n",
              "</style>\n",
              "<table border=\"1\" class=\"dataframe\">\n",
              "  <thead>\n",
              "    <tr style=\"text-align: right;\">\n",
              "      <th></th>\n",
              "      <th>Age</th>\n",
              "    </tr>\n",
              "  </thead>\n",
              "  <tbody>\n",
              "    <tr>\n",
              "      <th>count</th>\n",
              "      <td>714.000000</td>\n",
              "    </tr>\n",
              "    <tr>\n",
              "      <th>mean</th>\n",
              "      <td>29.699118</td>\n",
              "    </tr>\n",
              "    <tr>\n",
              "      <th>std</th>\n",
              "      <td>14.526497</td>\n",
              "    </tr>\n",
              "    <tr>\n",
              "      <th>min</th>\n",
              "      <td>0.420000</td>\n",
              "    </tr>\n",
              "    <tr>\n",
              "      <th>25%</th>\n",
              "      <td>20.125000</td>\n",
              "    </tr>\n",
              "    <tr>\n",
              "      <th>50%</th>\n",
              "      <td>28.000000</td>\n",
              "    </tr>\n",
              "    <tr>\n",
              "      <th>75%</th>\n",
              "      <td>38.000000</td>\n",
              "    </tr>\n",
              "    <tr>\n",
              "      <th>max</th>\n",
              "      <td>80.000000</td>\n",
              "    </tr>\n",
              "  </tbody>\n",
              "</table>\n",
              "</div><br><label><b>dtype:</b> float64</label>"
            ]
          },
          "metadata": {},
          "execution_count": 60
        }
      ]
    },
    {
      "cell_type": "markdown",
      "source": [
        "In the output of `df['Age'].describe()`, the 25% and 75% values correspond to the first (Q1) and third (Q3) quartiles, which define the interquartile range (IQR). This is where 50% of the passengers' ages are concentrated"
      ],
      "metadata": {
        "id": "_wpWNhZpREQP"
      }
    },
    {
      "cell_type": "code",
      "source": [
        "fig, axes = plt.subplots(nrows=1, ncols=2, figsize=(12, 5))\n",
        "\n",
        "sns.set_theme(style=\"whitegrid\")\n",
        "\n",
        "# Age Histogram\n",
        "axes[0].hist(df['Age'].dropna(), bins=40)\n",
        "axes[0].set_title(\"Age Histogram\")\n",
        "axes[0].set_xlabel(\"Age\")\n",
        "axes[0].set_ylabel(\"Frequency\")\n",
        "\n",
        "# Fare Histogram\n",
        "axes[1].hist(df['Fare'].dropna(), bins=40)\n",
        "axes[1].set_title(\"Fare Histogram\")\n",
        "axes[1].set_xlabel(\"Fare\")\n",
        "axes[1].set_ylabel(\"Frequency\")\n",
        "\n",
        "plt.tight_layout()\n",
        "plt.show()"
      ],
      "metadata": {
        "colab": {
          "base_uri": "https://localhost:8080/",
          "height": 501
        },
        "id": "Oo4g0wOwo1QP",
        "outputId": "c2ea587c-451d-4ae2-f87b-710528396946"
      },
      "execution_count": 61,
      "outputs": [
        {
          "output_type": "display_data",
          "data": {
            "text/plain": [
              "<Figure size 1200x500 with 2 Axes>"
            ],
            "image/png": "[encoded data removed]"
          },
          "metadata": {}
        }
      ]
    },
    {
      "cell_type": "markdown",
      "source": [
        "The histograms for age and fare show positive skewness (right tail), indicating that most passengers are concentrated in the lower values, with a few outliers raising the mean above the median.\n",
        "\n",
        "For age, the median is 28 years, with the interquartile range (Q1 to Q3) around 20 to 38 years, indicating a predominantly young passenger profile.\n",
        "\n",
        "For fare, it’s useful to examine the percentage of passengers in each class who fall within the interquartile range (IQR), to determine which class is predominant. This can also be verified by applying the mode to the `Pclass` column"
      ],
      "metadata": {
        "id": "yum-xG4jEDf7"
      }
    },
    {
      "cell_type": "code",
      "source": [
        "Q1 = df['Fare'].quantile(0.25)\n",
        "Q3 = df['Fare'].quantile(0.75)\n",
        "\n",
        "IQR = df[(df['Fare'] >= Q1) & (df['Fare'] <= Q3)] # create a subset with passengers whose Fare values are between Q1 and Q2\n",
        "\n",
        "count_IQR_Pclass = IQR['Pclass'].value_counts()\n",
        "percent_IQR_Pclass  = IQR['Pclass'].value_counts(normalize=True) * 100\n",
        "\n",
        "print(f\"Class count within the interquartile range (IQR) of age: {count_IQR_Pclass}\\n\")\n",
        "print(\"Class percentage within the interquartile range (IQR) of age:\", percent_IQR_Pclass.round(2).astype(str) + \" %\")\n",
        "\n",
        "sns.countplot(x='Pclass', data=IQR)\n",
        "plt.title(\"Distribution of Pclass among passengers with age in the IQR\")\n",
        "plt.xlabel(\"Class\")\n",
        "plt.ylabel(\"Number of passengers\")\n",
        "plt.show()"
      ],
      "metadata": {
        "colab": {
          "base_uri": "https://localhost:8080/",
          "height": 680
        },
        "id": "S7VZTi2_VfCW",
        "outputId": "83a016b3-234e-42cb-b5fc-626cb1e6fb6c"
      },
      "execution_count": 62,
      "outputs": [
        {
          "output_type": "stream",
          "name": "stdout",
          "text": [
            "Class count within the interquartile range (IQR) of age: Pclass\n",
            "3    239\n",
            "2    156\n",
            "1     51\n",
            "Name: count, dtype: int64\n",
            "\n",
            "Class percentage within the interquartile range (IQR) of age: Pclass\n",
            "3    53.59 %\n",
            "2    34.98 %\n",
            "1    11.43 %\n",
            "Name: proportion, dtype: object\n"
          ]
        },
        {
          "output_type": "display_data",
          "data": {
            "text/plain": [
              "<Figure size 640x480 with 1 Axes>"
            ],
            "image/png": "[encoded data removed]"
          },
          "metadata": {}
        }
      ]
    },
    {
      "cell_type": "markdown",
      "source": [
        "It is notable that most passengers belonged to the 3rd class"
      ],
      "metadata": {
        "id": "wcLetOyPeVzG"
      }
    },
    {
      "cell_type": "code",
      "source": [
        "fare_3rd = df.loc[df['Pclass'] == 3, 'Fare'] # here, the values from the Fare column are extracted only for passengers in third class\n",
        "\n",
        "pct_3rd = (fare_3rd <= median_fare).mean() * 100\n",
        "\n",
        "print(f\"{pct_3rd:.2f}% of the fares in 3rd class are less than or equal to £{median_fare}\")"
      ],
      "metadata": {
        "colab": {
          "base_uri": "https://localhost:8080/"
        },
        "id": "vPJqJ7G8TKMH",
        "outputId": "af1d19d4-13ea-4d01-ffad-00a1ede90173"
      },
      "execution_count": 63,
      "outputs": [
        {
          "output_type": "stream",
          "name": "stdout",
          "text": [
            "71.08% of the fares in 3rd class are less than or equal to £14.4542\n"
          ]
        }
      ]
    },
    {
      "cell_type": "markdown",
      "source": [
        "And more than 70% of the fares in 3rd class are below or equal to the median value, which highlights the positive skewness of the histogram"
      ],
      "metadata": {
        "id": "uOFmnkB7edyU"
      }
    },
    {
      "cell_type": "markdown",
      "source": [
        "Verifying through the application of the Mode:"
      ],
      "metadata": {
        "id": "lCOV2voFcbCA"
      }
    },
    {
      "cell_type": "code",
      "source": [
        "mode_Pclass = df['Pclass'].mode()\n",
        "mode_Pclass"
      ],
      "metadata": {
        "colab": {
          "base_uri": "https://localhost:8080/",
          "height": 115
        },
        "id": "C-fx2vSmGX_d",
        "outputId": "c4599672-772c-4803-81f8-43458ade122f"
      },
      "execution_count": 64,
      "outputs": [
        {
          "output_type": "execute_result",
          "data": {
            "text/plain": [
              "0    3\n",
              "Name: Pclass, dtype: int64"
            ],
            "text/html": [
              "<div>\n",
              "<style scoped>\n",
              "    .dataframe tbody tr th:only-of-type {\n",
              "        vertical-align: middle;\n",
              "    }\n",
              "\n",
              "    .dataframe tbody tr th {\n",
              "        vertical-align: top;\n",
              "    }\n",
              "\n",
              "    .dataframe thead th {\n",
              "        text-align: right;\n",
              "    }\n",
              "</style>\n",
              "<table border=\"1\" class=\"dataframe\">\n",
              "  <thead>\n",
              "    <tr style=\"text-align: right;\">\n",
              "      <th></th>\n",
              "      <th>Pclass</th>\n",
              "    </tr>\n",
              "  </thead>\n",
              "  <tbody>\n",
              "    <tr>\n",
              "      <th>0</th>\n",
              "      <td>3</td>\n",
              "    </tr>\n",
              "  </tbody>\n",
              "</table>\n",
              "</div><br><label><b>dtype:</b> int64</label>"
            ]
          },
          "metadata": {},
          "execution_count": 64
        }
      ]
    },
    {
      "cell_type": "markdown",
      "source": [
        "We can also see the number of passengers in each class:"
      ],
      "metadata": {
        "id": "Il3PHRcsJq5f"
      }
    },
    {
      "cell_type": "code",
      "source": [
        "count_each_class = df['Pclass'].value_counts()\n",
        "count_each_class"
      ],
      "metadata": {
        "colab": {
          "base_uri": "https://localhost:8080/",
          "height": 209
        },
        "id": "CVUYwqvkI97b",
        "outputId": "a79c5b48-3c0a-4645-aa79-b839fe23abf7"
      },
      "execution_count": 65,
      "outputs": [
        {
          "output_type": "execute_result",
          "data": {
            "text/plain": [
              "Pclass\n",
              "3    491\n",
              "1    216\n",
              "2    184\n",
              "Name: count, dtype: int64"
            ],
            "text/html": [
              "<div>\n",
              "<style scoped>\n",
              "    .dataframe tbody tr th:only-of-type {\n",
              "        vertical-align: middle;\n",
              "    }\n",
              "\n",
              "    .dataframe tbody tr th {\n",
              "        vertical-align: top;\n",
              "    }\n",
              "\n",
              "    .dataframe thead th {\n",
              "        text-align: right;\n",
              "    }\n",
              "</style>\n",
              "<table border=\"1\" class=\"dataframe\">\n",
              "  <thead>\n",
              "    <tr style=\"text-align: right;\">\n",
              "      <th></th>\n",
              "      <th>count</th>\n",
              "    </tr>\n",
              "    <tr>\n",
              "      <th>Pclass</th>\n",
              "      <th></th>\n",
              "    </tr>\n",
              "  </thead>\n",
              "  <tbody>\n",
              "    <tr>\n",
              "      <th>3</th>\n",
              "      <td>491</td>\n",
              "    </tr>\n",
              "    <tr>\n",
              "      <th>1</th>\n",
              "      <td>216</td>\n",
              "    </tr>\n",
              "    <tr>\n",
              "      <th>2</th>\n",
              "      <td>184</td>\n",
              "    </tr>\n",
              "  </tbody>\n",
              "</table>\n",
              "</div><br><label><b>dtype:</b> int64</label>"
            ]
          },
          "metadata": {},
          "execution_count": 65
        }
      ]
    },
    {
      "cell_type": "markdown",
      "source": [
        "## Measures of Dispersion"
      ],
      "metadata": {
        "id": "WVV_FfQxqGWA"
      }
    },
    {
      "cell_type": "markdown",
      "source": [
        "Measures of dispersion are statistics that indicate how much the data varies or spreads around the mean (or another central point, such as the median). They help to understand the variability or consistency of a dataset"
      ],
      "metadata": {
        "id": "WCnMUnzSQUml"
      }
    },
    {
      "cell_type": "markdown",
      "source": [
        "### Range"
      ],
      "metadata": {
        "id": "O_F2D5maw8oC"
      }
    },
    {
      "cell_type": "markdown",
      "source": [
        "To get the total spread of the data, the Range can be used:"
      ],
      "metadata": {
        "id": "aLVNx4c2sXzW"
      }
    },
    {
      "cell_type": "code",
      "source": [
        "age_range = df['Age'].max() - df['Age'].min()\n",
        "\n",
        "fare_range = df['Fare'].max() - df['Fare'].min()\n",
        "\n",
        "print(f\"Age Range: {age_range:.1f} years\")\n",
        "print(f\"Fare Range: £{fare_range:.2f}\")"
      ],
      "metadata": {
        "colab": {
          "base_uri": "https://localhost:8080/"
        },
        "id": "Y3obKukRqbHB",
        "outputId": "1635c6c2-a797-4e19-e5d8-84d9cfcc2409"
      },
      "execution_count": 66,
      "outputs": [
        {
          "output_type": "stream",
          "name": "stdout",
          "text": [
            "Age Range: 79.6 years\n",
            "Fare Range: £512.33\n"
          ]
        }
      ]
    },
    {
      "cell_type": "markdown",
      "source": [
        "As can be seen, the range is sensitive to outliers. Since the Fare column contains a very large outlier, it significantly affects the range calculation"
      ],
      "metadata": {
        "id": "XZdJqjGjsmHd"
      }
    },
    {
      "cell_type": "markdown",
      "source": [
        "### Standard Deviation"
      ],
      "metadata": {
        "id": "SImVB2u7w_mp"
      }
    },
    {
      "cell_type": "markdown",
      "source": [
        "Another measure is the standard deviation, which calculates how much each observation deviates from the mean. The higher the value, the more dispersed the data is around the mean"
      ],
      "metadata": {
        "id": "J81fkR17s0H0"
      }
    },
    {
      "cell_type": "code",
      "source": [
        "std_age  = df['Age'].std()\n",
        "std_fare = df['Fare'].std()\n",
        "\n",
        "print(f\"Age Standard Deviation: {std_age:.2f} years\")\n",
        "print(f\"Fare Standard Deviation: £{std_fare:.2f}\")"
      ],
      "metadata": {
        "colab": {
          "base_uri": "https://localhost:8080/"
        },
        "id": "muIgK7tSqwTf",
        "outputId": "89fa7415-41e1-4d32-df45-e3f50338f478"
      },
      "execution_count": 67,
      "outputs": [
        {
          "output_type": "stream",
          "name": "stdout",
          "text": [
            "Age Standard Deviation: 14.53 years\n",
            "Fare Standard Deviation: £49.69\n"
          ]
        }
      ]
    },
    {
      "cell_type": "markdown",
      "source": [
        "In the case of fare standard deviation, it is much higher than the median itself, meaning that, on average, each fare is nearly £50 away from the mean"
      ],
      "metadata": {
        "id": "qIqaYpPytkC3"
      }
    },
    {
      "cell_type": "markdown",
      "source": [
        "### Variance"
      ],
      "metadata": {
        "id": "ZwRid9OexCr1"
      }
    },
    {
      "cell_type": "markdown",
      "source": [
        "Variance measures, on average, the squared distance of each value from the mean of the dataset. It is essentially the square of the standard deviation"
      ],
      "metadata": {
        "id": "OFL3II_OxJom"
      }
    },
    {
      "cell_type": "markdown",
      "source": [
        "High variance: the data is highly spread out around the mean (many values far from it)\n",
        "\n",
        "Low variance: the values are more tightly clustered around the mean"
      ],
      "metadata": {
        "id": "KMc1QFHUyOYJ"
      }
    },
    {
      "cell_type": "code",
      "source": [
        "var_age  = df['Age'].var()\n",
        "var_fare = df['Fare'].var()\n",
        "\n",
        "print(f\"Age variance: {var_age:.2f}\")\n",
        "print(f\"Fare variance: {var_fare:.2f}\")"
      ],
      "metadata": {
        "colab": {
          "base_uri": "https://localhost:8080/"
        },
        "id": "-ZDJXkYmq4xg",
        "outputId": "99757aef-0e0e-4990-9ea0-6e43e0031701"
      },
      "execution_count": 68,
      "outputs": [
        {
          "output_type": "stream",
          "name": "stdout",
          "text": [
            "Age variance: 211.02\n",
            "Fare variance: 2469.44\n"
          ]
        }
      ]
    },
    {
      "cell_type": "markdown",
      "source": [
        "The variance of Fare is very high because there are both very cheap and very expensive tickets, which greatly spreads the values\n",
        "\n",
        "The variance of Age is lower, indicating that although ages vary, they do not extend as widely as the fares"
      ],
      "metadata": {
        "id": "G5_eM5-Xx51h"
      }
    },
    {
      "cell_type": "markdown",
      "source": [
        "### Coefficient of Variation (CV)"
      ],
      "metadata": {
        "id": "lv6-1b3_yTJt"
      }
    },
    {
      "cell_type": "markdown",
      "source": [
        "It is a dimensionless measure that indicates the relative dispersion of a variable around its mean. The lower the CV, the more homogeneous the values; the higher the CV, the more heterogeneous the distribution"
      ],
      "metadata": {
        "id": "hUtmiv6Mz5mu"
      }
    },
    {
      "cell_type": "code",
      "source": [
        "cv_age  = df['Age'].std()  / df['Age'].mean()\n",
        "cv_fare = df['Fare'].std() / df['Fare'].mean()\n",
        "\n",
        "print(f\"CV Age: {cv_age:.2f}\")\n",
        "print(f\"CV Fare: {cv_fare:.2f}\")"
      ],
      "metadata": {
        "colab": {
          "base_uri": "https://localhost:8080/"
        },
        "id": "7Z_KbFhdq8QW",
        "outputId": "136125c3-6a08-4e09-b22a-f2e60cc40056"
      },
      "execution_count": 69,
      "outputs": [
        {
          "output_type": "stream",
          "name": "stdout",
          "text": [
            "CV Age: 0.49\n",
            "CV Fare: 1.54\n"
          ]
        }
      ]
    },
    {
      "cell_type": "markdown",
      "source": [
        "The coefficient of variation (CV) for age is 0.49 (or 49%), which means that the standard deviation of 14.53 years corresponds to 49% of the mean age of 29.7 years. On the other hand, the CV for fares is 1.54 (or 154%), indicating that the standard deviation of £49.69 is 154% of the mean fare of £32.2"
      ],
      "metadata": {
        "id": "S9C77tYX0fru"
      }
    },
    {
      "cell_type": "markdown",
      "source": [
        "## Skewness and Kurtosis"
      ],
      "metadata": {
        "id": "eg9hQBCz5ot9"
      }
    },
    {
      "cell_type": "markdown",
      "source": [
        "### Skewness"
      ],
      "metadata": {
        "id": "CxPmEs1F7wSk"
      }
    },
    {
      "cell_type": "markdown",
      "source": [
        "Measures the degree of asymmetry of the distribution around the mean:\n",
        "\n",
        "Skew > 0: longer tail to the right (distribution \"pulled\" toward higher values).\n",
        "\n",
        "Skew < 0: longer tail to the left (pulled toward lower values).\n",
        "\n",
        "Skew ≈ 0: approximately symmetric distribution."
      ],
      "metadata": {
        "id": "8pVAJEPc73ba"
      }
    },
    {
      "cell_type": "code",
      "source": [
        "print(\"Skew Age:\", df['Age'].skew())\n",
        "print(\"Skew Fare:\", df['Fare'].skew())"
      ],
      "metadata": {
        "colab": {
          "base_uri": "https://localhost:8080/"
        },
        "id": "nzAyowIBnQqW",
        "outputId": "e7637173-c000-4ab0-ec70-b7c95ce29294"
      },
      "execution_count": 70,
      "outputs": [
        {
          "output_type": "stream",
          "name": "stdout",
          "text": [
            "Skew Age: 0.38910778230082704\n",
            "Skew Fare: 4.787316519674893\n"
          ]
        }
      ]
    },
    {
      "cell_type": "markdown",
      "source": [
        "It can be seen that the skewness of Age is slight and has a right tail, due to the presence of children and elderly passengers. On the other hand, the skewness of Fare is high, indicating that there are many cheap tickets and only a few expensive ones. This can be confirmed by the histogram"
      ],
      "metadata": {
        "id": "Tne2IEw-7_q_"
      }
    },
    {
      "cell_type": "markdown",
      "source": [
        "### Kurtosis"
      ],
      "metadata": {
        "id": "NjhKfmYb8mAp"
      }
    },
    {
      "cell_type": "markdown",
      "source": [
        "Measures the “heaviness” of the tails and the peak of the distribution compared to a normal distribution:\n",
        "\n",
        "Kurt > 3 (excess kurtosis > 0): heavy tails and a sharper peak than the normal distribution (“leptokurtic”).\n",
        "\n",
        "Kurt < 3 (excess kurtosis < 0): light tails and a flatter peak (“platykurtic”).\n",
        "\n",
        "Kurt ≈ 3 (excess ≈ 0): distribution similar to the normal (“mesokurtic”)."
      ],
      "metadata": {
        "id": "E3HrgTQt8sju"
      }
    },
    {
      "cell_type": "code",
      "source": [
        "print(\"Kurtosis Age:\", df['Age'].kurtosis()) # this function already returns the value as excess kurtosis\n",
        "print(\"Kurtosis Fare:\", df['Fare'].kurtosis())"
      ],
      "metadata": {
        "colab": {
          "base_uri": "https://localhost:8080/"
        },
        "id": "bd4amrDQnT0i",
        "outputId": "9e977e58-73c3-4992-8bb2-180464df8d32"
      },
      "execution_count": 71,
      "outputs": [
        {
          "output_type": "stream",
          "name": "stdout",
          "text": [
            "Kurtosis Age: 0.17827415364210353\n",
            "Kurtosis Fare: 33.39814088089868\n"
          ]
        }
      ]
    },
    {
      "cell_type": "markdown",
      "source": [
        "High kurtosis in Fare reinforces the presence of many outliers (expensive tickets) or a very sharp peak, kurtosis of Age close to zero indicates a relatively “normal” age distribution, with few extreme outliers"
      ],
      "metadata": {
        "id": "-B78tfwF9QWz"
      }
    },
    {
      "cell_type": "markdown",
      "source": [
        "## Insights"
      ],
      "metadata": {
        "id": "5Io1kWNh-sSh"
      }
    },
    {
      "cell_type": "markdown",
      "source": [
        "**Central Tendency**\n",
        "\n",
        "* **Age**: mean ≈ 29.7 years, median ≈ 28 years, standard deviation ≈ 14.5 years.\n",
        "* **Fare**: mean ≈ £32.2, median ≈ £14.45, standard deviation ≈ £49.7.\n",
        "\n",
        "**Skewness and Kurtosis**\n",
        "\n",
        "* **Age** shows slight right skewness (skew ≈ 0.5) and near-normal kurtosis (excess ≈ 0.18), indicating a relatively balanced distribution from teenagers to elderly passengers.\n",
        "* **Fare** is highly right-skewed (high skewness) and extremely leptokurtic (excess ≈ 33.4), due to many cheap tickets and a few luxury fares that distort the distribution.\n",
        "\n",
        "**Interquartile Range (IQR)**\n",
        "\n",
        "* **Age**: Q1 ≈ 20 years, Q3 ≈ 38 years (50% of passengers within this range).\n",
        "* **Fare**: Q1 ≈ £7, Q3 ≈ £31 (50% of tickets within this range).\n",
        "\n",
        "**Modes and Categorical Profiles**\n",
        "\n",
        "* The modal class is **3rd class** (mode of Pclass), confirming that most passengers traveled in lower-cost accommodations.\n",
        "\n",
        "**Relative Dispersion (CV)**\n",
        "\n",
        "* **CV(age)** ≈ 0.49: moderate variation around the mean.\n",
        "* **CV(fare)** ≈ 1.54: high heterogeneity, suggesting the potential need for transformation (e.g., log) in future analyses.\n"
      ],
      "metadata": {
        "id": "aE_Ess13_mSP"
      }
    }
  ]
}